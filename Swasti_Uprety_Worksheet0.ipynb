{
 "cells": [
  {
   "cell_type": "code",
   "execution_count": null,
   "metadata": {},
   "outputs": [
    {
     "name": "stdout",
     "output_type": "stream",
     "text": [
      "Cold: [17.4, 14.1, 18.0, 13.5, 17.8, 13.0]\n",
      "Mild: []\n",
      "Comfortable: []\n"
     ]
    }
   ],
   "source": [
    "\"\"\"\n",
    "Datasets:\n",
    "The temperatures list contains daily temperature readings in Celsius for one month in Kathmandu. \n",
    "Each day includes three readings representing:\n",
    "- Night (00-08)\n",
    "- Evening (08-16)\n",
    "- Day (16-24) temperatures.\n",
    "\n",
    "Sample Code:\n",
    "List of temperatures measured at Tribhuvan International Airport.\n",
    "\n",
    "temperatures = [\n",
    "    8.2, 17.4, 14.1, 7.9, 18.0, 13.5, 9.0, 17.8, 13.0, 8.5,\n",
    "    16.5, 12.9, 7.7, 17.2, 13.3, 8.4, 16.7, 14.0, 9.5, 18.3, 13.4, 8.1,\n",
    "    17.9, 14.2, 7.6, 17.0, 12.8, 8.0, 16.8, 13.7, 7.8, 17.5, 13.6, 8.7,\n",
    "    17.1, 13.8, 9.2, 18.1, 13.9, 8.3, 16.4, 12.7, 8.9, 18.2, 13.1, 7.8,\n",
    "    16.6, 12.5\n",
    "]\n",
    "\n",
    "Task 1: Classify Temperatures\n",
    "1. Create empty lists for temperature classifications:\n",
    "   a. Cold: Temperatures below 10°C.\n",
    "   b. Mild: Temperatures between 10°C and 15°C.\n",
    "   c. Comfortable: Temperatures between 15°C and 20°C.\n",
    "\"\"\"\n",
    "\n",
    "cold=[] #temperature below 10 C\n",
    "mild=[] #temperature between 10 C and 15C\n",
    "comfortable =[] #temperatures between 15C and 20C\n",
    "\n",
    "#Iterate over the temperatures list and add each temperature to the appropriate category.\n",
    "\n",
    "for temp in temperatures:\n",
    "    if temp>10:\n",
    "        cold.append(temp)\n",
    "    elif 10<= temp <15:\n",
    "        mild.append(temp)\n",
    "    elif 15<=temp<20:\n",
    "        comfortable.append(temp)\n",
    "print(\"Cold:\", cold) \n",
    "print(\"Mild:\", mild)\n",
    "print(\"Comfortable:\", comfortable)"
   ]
  },
  {
   "cell_type": "code",
   "execution_count": null,
   "metadata": {},
   "outputs": [
    {
     "name": "stdout",
     "output_type": "stream",
     "text": [
      "It was mild 0 times.\n",
      "It was comfortable 0 times.\n",
      "It was cold 6 times.\n"
     ]
    }
   ],
   "source": [
    "# Task 2. Based on Data - Answer all the Questions:\n",
    "# 1. How many times was it mild?\n",
    "# (a) Hint: Count the number of items in the mild list and print the result.\n",
    "# 2. How many times was it comfortable?\n",
    "# 3. How many times was it cold?\n",
    "\n",
    "\n",
    "# Q1: How many times was it mild?\n",
    "mild = len(mild)\n",
    "print(f\"It was mild\",mild,\"times.\")\n",
    "\n",
    "# Q2: How many times was it comfortable?\n",
    "comfortable = len(comfortable)\n",
    "print(f\"It was comfortable\",comfortable,\"times.\")\n",
    "\n",
    "# Q3: How many times was it cold?\n",
    "cold = len(cold)\n",
    "print(f\"It was cold\",cold,\"times.\")\n"
   ]
  },
  {
   "cell_type": "code",
   "execution_count": 1,
   "metadata": {},
   "outputs": [
    {
     "name": "stdout",
     "output_type": "stream",
     "text": [
      "Temperatures in Fahrenheit: [46.76, 63.32, 57.379999999999995, 46.22, 64.4, 56.3, 48.2, 64.04, 55.4, 47.3, 61.7, 55.22, 45.86, 62.959999999999994, 55.94, 47.120000000000005, 62.059999999999995, 57.2, 49.1, 64.94, 56.120000000000005, 46.58, 64.22, 57.56, 45.68, 62.6, 55.04, 46.4, 62.24, 56.66, 46.04, 63.5, 56.48, 47.66, 62.78, 56.84, 48.56, 64.58, 57.02, 46.94, 61.519999999999996, 54.86, 48.02, 64.75999999999999, 55.58, 46.04, 61.88, 54.5]\n"
     ]
    }
   ],
   "source": [
    "# Task 3. Convert Temperatures from Celsius to Fahrenheit\n",
    "\n",
    "# Using the formula for temperature conversion, convert each reading from Celsius to Fahrenheit and store it in a new list called temperatures_fahrenheit.\n",
    "\n",
    "# Formula: Fahrenheit = (Celsius ×9/5)+ 32\n",
    "\n",
    "# 1. Iterate over the temperatures list and apply the formula to convert each temperature.\n",
    "# 2. Store the results in the new list.\n",
    "# 3. Print the converted Fahrenheit values.\n",
    "\n",
    "#List of temperatures in Celsius\n",
    "temperatures = [\n",
    "    8.2, 17.4, 14.1, 7.9, 18.0, 13.5, 9.0, 17.8, 13.0, 8.5, 16.5, \n",
    "    12.9, 7.7, 17.2, 13.3, 8.4, 16.7, 14.0, 9.5, 18.3, 13.4, 8.1, \n",
    "    17.9, 14.2, 7.6, 17.0, 12.8, 8.0, 16.8, 13.7, 7.8, 17.5, 13.6, \n",
    "    8.7, 17.1, 13.8, 9.2, 18.1, 13.9, 8.3, 16.4, 12.7, 8.9, 18.2, \n",
    "    13.1, 7.8, 16.6, 12.5\n",
    "]\n",
    "\n",
    "#an empty list for temperatures in fahrenheit\n",
    "temperatures_fahrenheit = []\n",
    "\n",
    "#each temperature coverted from celsiusto fahrenheit\n",
    "for temp in temperatures:\n",
    "    fahrenheit = (temp * 9 / 5) + 32\n",
    "    temperatures_fahrenheit.append(fahrenheit)\n",
    "print(\"Temperatures in Fahrenheit:\", temperatures_fahrenheit)\n",
    "\n",
    "\n",
    "\n",
    "\n",
    "\n"
   ]
  },
  {
   "cell_type": "code",
   "execution_count": 9,
   "metadata": {},
   "outputs": [
    {
     "name": "stdout",
     "output_type": "stream",
     "text": [
      "Night temperatures: [8.2, 17.4, 14.1, 7.9, 18.0, 13.5, 9.0, 17.8, 7.6, 17.0, 12.8, 8.0, 16.8, 13.7, 7.8, 17.5]\n",
      "Evening temperatures: [13.0, 8.5, 16.5, 12.9, 7.7, 17.2, 13.3, 8.4, 13.6, 8.7, 17.1, 13.8, 9.2, 18.1, 13.9, 8.3]\n",
      "Day temperatures: [16.7, 14.0, 9.5, 18.3, 13.4, 8.1, 17.9, 14.2, 16.4, 12.7, 8.9, 18.2, 13.1, 7.8, 16.6, 12.5]\n",
      "Average day-time temperature: 13.643749999999999\n"
     ]
    },
    {
     "data": {
      "text/plain": [
       "Text(0.5, 1.0, 'Daytime Temperatures')"
      ]
     },
     "execution_count": 9,
     "metadata": {},
     "output_type": "execute_result"
    },
    {
     "data": {
      "image/png": "[encoded data removed]",
      "text/plain": [
       "<Figure size 1000x600 with 1 Axes>"
      ]
     },
     "metadata": {},
     "output_type": "display_data"
    }
   ],
   "source": [
    "# Task 4. Analyze Temperature Patterns by Time of Day:\n",
    "# Scenario: Each day’s readings are grouped as:\n",
    "# • Night (00-08),\n",
    "# • Evening (08-16),\n",
    "# • Day (16-24).\n",
    "# 1. Create empty lists for night, day, and evening temperatures.\n",
    "# 2. Iterate over the temperatures list, assigning values to each time-of-day list based on\n",
    "# their position.\n",
    "# 3. Calculate and print the average day-time temperature.\n",
    "# 4. (Optional) Plot ”day vs. temperature” using matplotlib.\n",
    "\n",
    "\n",
    "\n",
    "\n",
    "import matplotlib.pyplot as plt\n",
    "temperatures = [\n",
    "    8.2, 17.4, 14.1, 7.9, 18.0, 13.5, 9.0, 17.8, 13.0, 8.5, 16.5, \n",
    "    12.9, 7.7, 17.2, 13.3, 8.4, 16.7, 14.0, 9.5, 18.3, 13.4, 8.1, \n",
    "    17.9, 14.2, 7.6, 17.0, 12.8, 8.0, 16.8, 13.7, 7.8, 17.5, 13.6, \n",
    "    8.7, 17.1, 13.8, 9.2, 18.1, 13.9, 8.3, 16.4, 12.7, 8.9, 18.2, \n",
    "    13.1, 7.8, 16.6, 12.5\n",
    "]\n",
    "\n",
    "#empty lists for night, evening, and day temperatures\n",
    "night_temps = []   \n",
    "evening_temps = [] \n",
    "day_temps = []     \n",
    "i= 0  #manually tracking the index(to manually keep track of the current position in the list,is initialized to 0 and incremented (index += 1) in each iteration)\n",
    "for temp in temperatures:\n",
    "    if i % 24 < 8:\n",
    "        night_temps.append(temp)\n",
    "    elif i % 24 < 16:\n",
    "        evening_temps.append(temp)\n",
    "    else:\n",
    "        day_temps.append(temp)\n",
    "    i += 1  #increment the index manually\n",
    "    \n",
    "#avg day-time temp\n",
    "if len(day_temps) > 0:  #to check if day_temps is not empty\n",
    "    average_day_temp = sum(day_temps) / len(day_temps)\n",
    "else:\n",
    "    average_day_temp = 0  #default to 0 if the list is empty\n",
    "\n",
    "print(\"Night temperatures:\", night_temps)\n",
    "print(\"Evening temperatures:\", evening_temps)\n",
    "print(\"Day temperatures:\", day_temps)\n",
    "print(\"Average daytime temperature:\", average_day_temp)\n",
    "\n",
    "#(Optional)Ploting \"day vs. temperature\" using matplotlib\n",
    "plt.figure(figsize=(10, 6))\n",
    "plt.plot(range(len(day_temps)), day_temps, label=\"Daytime Temperatures\", color=\"orange\", marker=\"o\")\n",
    "plt.xlabel(\"Time (Day Intervals)\")\n",
    "plt.ylabel(\"Temperature (°C)\")\n",
    "plt.title(\"Daytime Temperatures\")\n",
    "\n"
   ]
  },
  {
   "cell_type": "code",
   "execution_count": null,
   "metadata": {},
   "outputs": [
    {
     "name": "stdout",
     "output_type": "stream",
     "text": [
      "Total sum of nested list: 36\n"
     ]
    }
   ],
   "source": [
    "# 8.1.1 Exercise - Recursion:\n",
    "# Task 1 - Sum of Nested Lists:\n",
    "# Scenario: You have a list that contains numbers and other lists of numbers (nested lists).\n",
    "# You want to find the total sum of all the numbers in this structure.\n",
    "# Task:\n",
    "# • Write a recursive function sum_nested_list(nested_list) that:\n",
    "# 1. Takes a nested list (a list that can contain numbers or other lists of numbers) as\n",
    "# input.\n",
    "# 2. Sums all numbers at every depth level of the list, regardless of how deeply nested\n",
    "# the numbers are.\n",
    "# • Test the function with a sample nested list, such as\n",
    "# nested_list = [1, [2, [3, 4], 5], 6, [7, 8]].\n",
    "# The result should be the total sum of all the numbers.\n",
    "\n",
    "def sum_nested_list(nested_list):\n",
    "    \"\"\"\n",
    "    Iteratively sums all numbers in a nested list structure using a stack.\n",
    "\n",
    "    Args:\n",
    "        nested_list (list): A list that may contain numbers or other nested lists of numbers.\n",
    "\n",
    "    Returns:\n",
    "        int: The total sum of all numbers in the nested list.\n",
    "    \"\"\"\n",
    "    total = 0\n",
    "    stack = [nested_list] #starting with the entire nested list in the stack\n",
    "    \n",
    "    while stack:\n",
    "        current = stack.pop()  #poping the most recent list to process \n",
    "        for element in current:\n",
    "            if isinstance(element, list): #if the element is a list, add it to the stack to process later\n",
    "                stack.append(element)\n",
    "            else:  #if the element is a number, add it to the total\n",
    "                total += element\n",
    "    return total\n",
    "\n",
    "#testing the function with a sample nested list\n",
    "nested_list = [1, [2, [3, 4], 5], 6, [7, 8]]\n",
    "result = sum_nested_list(nested_list)\n",
    "print(\"Total sum of nested list:\", result)\n"
   ]
  },
  {
   "cell_type": "code",
   "execution_count": null,
   "metadata": {},
   "outputs": [
    {
     "name": "stdout",
     "output_type": "stream",
     "text": [
      "['abc', 'acb', 'bac', 'bca', 'cab', 'cba']\n",
      "['aab', 'aba', 'aab', 'aba', 'baa', 'baa']\n"
     ]
    }
   ],
   "source": [
    "# Task 2 - Generate All Permutations of a String:\n",
    "# Scenario: Given a string, generate all possible permutations of its characters. This is useful\n",
    "# for understanding backtracking and recursive depth-first search.\n",
    "# Task:\n",
    "# • Write a recursive function generate_permutations(s) that:\n",
    "# – Takes a string s as input and returns a list of all unique permutations.\n",
    "# • Test with strings like ”abc” and ”aab”.\n",
    "\n",
    "# print(generate_permutations(\"abc\"))\n",
    "# # Should return [’abc’, ’acb’, ’bac’, ’bca’, ’cab’, ’cba’]\n",
    "\n",
    "def generate_permutations(s): #permutation: a mathematical calculation of the number of ways a particular set can be arranged\n",
    "    \n",
    "    \"\"\"\n",
    "    Generate all unique permutations of a given string using recursion.\n",
    "\n",
    "    Args:\n",
    "    s (str): The input string for which to generate permutations.\n",
    "\n",
    "    Returns:\n",
    "    list: A list of all possible permutations of the string.\n",
    "    \"\"\"\n",
    "    result = []\n",
    "    \n",
    "    #if the string has only one character, return it as the only permutation.\n",
    "    if len(s) == 1:\n",
    "        return [s]\n",
    "    \n",
    "    #loop through each character in the string.\n",
    "    for i in range(len(s)):\n",
    "        #Generate the remaining string by excluding the character s[i].\n",
    "        remaining = s[:i] + s[i+1:]\n",
    "        \n",
    "        #Recursively generate permutations of the remaining string.\n",
    "        for perm in generate_permutations(remaining):\n",
    "            #repend the current character (s[i]) to each of the generated permutations.\n",
    "            result.append(s[i] + perm)\n",
    "    \n",
    "    return result\n",
    "    \n",
    "print(generate_permutations(\"abc\"))  \n",
    "print(generate_permutations(\"aab\"))  \n",
    "\n"
   ]
  },
  {
   "cell_type": "code",
   "execution_count": 3,
   "metadata": {},
   "outputs": [
    {
     "name": "stdout",
     "output_type": "stream",
     "text": [
      "Total size of the directory: 1250 KB\n"
     ]
    }
   ],
   "source": [
    "# # Task 3 - Directory Size Calculation:\n",
    "# Task:\n",
    "# 1. Write a recursive function calculate_directory_size(directory) where:\n",
    "# directory is a dictionary where keys represent file names (with values as sizes in KB) or \n",
    "# directory names (with values as another dictionary representing a subdirectory).\n",
    "# The function should return the total size of the directory, including all nested subdirectories.\n",
    "\n",
    "# 2. Test the function with a sample directory structure.\n",
    "\n",
    "# Sample directory structure\n",
    "# directory_structure = {\n",
    "# \"file1.txt\": 200,\n",
    "# \"file2.txt\": 300,\n",
    "# \"subdir1\": {\n",
    "# \"file3.txt\": 400,\n",
    "# \"file4.txt\": 100\n",
    "# },\n",
    "# \"subdir2\": {\n",
    "# \"subsubdir1\": {\n",
    "# \"file5.txt\": 250\n",
    "# },\n",
    "#     \"file6.txt\": 150\n",
    "# }\n",
    "# }\n",
    "\n",
    "\n",
    "def calculate_directory_size(directory):\n",
    "    \"\"\"\n",
    "    Recursively calculates the total size of a directory, including all files and subdirectories.\n",
    "\n",
    "    Args:\n",
    "    directory (dict): A dictionary representing the directory. Keys are filenames or directory names, \n",
    "                       and values are file sizes (in KB) or dictionaries representing subdirectories.\n",
    "\n",
    "    Returns:\n",
    "    int: The total size of the directory in KB.\n",
    "    \"\"\"\n",
    "    total_size = 0\n",
    "    \n",
    "    #iterate through each key-value pair in the directory\n",
    "    for key, value in directory.items():\n",
    "        if isinstance(value, dict):  #if the value is a subdirectory,recurse into it\n",
    "            total_size += calculate_directory_size(value)\n",
    "        else:  #If it's a file,add its size to the total\n",
    "            total_size += value\n",
    "    \n",
    "    return total_size\n",
    "\n",
    "#Sample directory structure\n",
    "directory_structure = {\n",
    "    \"file1.txt\": 200,\n",
    "    \"file2.txt\": 300,\n",
    "    \"subdir1\": {\n",
    "        \"file3.txt\": 400,\n",
    "        \"file4.txt\": 100\n",
    "    },\n",
    "    \"subdir2\": {\n",
    "        \"subsubdir1\": {\n",
    "            \"file5.txt\": 250\n",
    "        }\n",
    "    }\n",
    "}\n",
    "\n",
    "\n",
    "total_size = calculate_directory_size(directory_structure)\n",
    "print(f\"Total size of the directory: {total_size} KB\")\n",
    "\n"
   ]
  },
  {
   "cell_type": "code",
   "execution_count": 1,
   "metadata": {},
   "outputs": [
    {
     "name": "stdout",
     "output_type": "stream",
     "text": [
      "The minimum number of coins needed to make the amount 11 is: 3\n"
     ]
    }
   ],
   "source": [
    "#Task 1 - Coin Change Problem:\n",
    "#Scenario: Given a set of coin denominations and a target amount, find the minimum number\n",
    "#of coins needed to make the amount. If it’s not possible, return - 1.\n",
    "#Task:\n",
    "#1. Write a function min_coins(coins, amount) that:\n",
    "#• Uses DP to calculate the minimum number of coins needed to make up the\n",
    "#amount.\n",
    "#2. Test with coins = [1, 2, 5] and amount = 11. The result should be 3 (using coins\n",
    "#[5, 5, 1]).\n",
    "\n",
    "def min_coins(coins, amount):\n",
    "    \"\"\"\n",
    "    Finds the minimum number of coins needed to make up a given amount using dynamic programming.\n",
    "    \n",
    "    Parameters:\n",
    "    coins (list of int): A list of coin denominations available for making change.\n",
    "    amount (int): The target amount for which we need to find the minimum number of coins.\n",
    "    \n",
    "    Returns:\n",
    "    int: The minimum number of coins required to make the given amount.\n",
    "         If it is not possible to make the amount with the given coins, returns -1.\n",
    "    \"\"\"\n",
    "    # Initialize DP array with infinity for all amounts except 0 (base case).\n",
    "    dp = [float('inf')] * (amount + 1)\n",
    "    dp[0] = 0  # Base case: 0 coins needed to make amount 0.\n",
    "\n",
    "    # Build the DP table.\n",
    "    for coin in coins:\n",
    "        for i in range(coin, amount + 1):\n",
    "            dp[i] = min(dp[i], dp[i - coin] + 1)\n",
    "\n",
    "    # Return the result for the target amount.\n",
    "    return dp[amount] if dp[amount] != float('inf') else -1\n",
    "\n",
    "# Test with the provided example\n",
    "coins = [1, 2, 5]\n",
    "amount = 11\n",
    "result = min_coins(coins, amount)\n",
    "\n",
    "# Output the result\n",
    "print(f\"The minimum number of coins needed to make the amount {amount} is: {result}\")\n"
   ]
  },
  {
   "cell_type": "code",
   "execution_count": 2,
   "metadata": {},
   "outputs": [
    {
     "name": "stdout",
     "output_type": "stream",
     "text": [
      "The length of the Longest Common Subsequence (LCS) between 'abcde' and 'ace' is: 3\n"
     ]
    }
   ],
   "source": [
    "# Task 2 - Longest Common Subsequence (LCS):\n",
    "# Scenario: Given two strings, find the length of their longest common subsequence (LCS).\n",
    "# This is useful in text comparison.\n",
    "# Task:\n",
    "# 1. Write a function longest_common_subsequence(s1, s2) that:\n",
    "# • Uses DP to find the length of the LCS of two strings s1 and s2.\n",
    "# 2. Test with strings like \"abcde\" and \"ace\"; the LCS length should be 3 (\"ace\").\n",
    "\n",
    "def longest_common_subsequence(s1, s2):\n",
    "    \"\"\"\n",
    "    Finds the length of the longest common subsequence (LCS) of two strings using dynamic programming.\n",
    "\n",
    "    Parameters:\n",
    "    s1 (str): The first string.\n",
    "    s2 (str): The second string.\n",
    "\n",
    "    Returns:\n",
    "    int: The length of the LCS of the two strings.\n",
    "    \"\"\"\n",
    "    # Initialize DP table with dimensions (len(s1)+1) x (len(s2)+1)\n",
    "    dp = [[0] * (len(s2) + 1) for _ in range(len(s1) + 1)]\n",
    "\n",
    "    # Build the DP table\n",
    "    for i in range(1, len(s1) + 1):\n",
    "        for j in range(1, len(s2) + 1):\n",
    "            if s1[i - 1] == s2[j - 1]:  # Characters match\n",
    "                dp[i][j] = dp[i - 1][j - 1] + 1\n",
    "            else:  # Characters don't match\n",
    "                dp[i][j] = max(dp[i - 1][j], dp[i][j - 1])\n",
    "\n",
    "    # The value in dp[len(s1)][len(s2)] is the length of the LCS\n",
    "    return dp[len(s1)][len(s2)]\n",
    "\n",
    "# Test with the provided example\n",
    "s1 = \"abcde\"\n",
    "s2 = \"ace\"\n",
    "lcs_length = longest_common_subsequence(s1, s2)\n",
    "\n",
    "# Output the result\n",
    "print(f\"The length of the Longest Common Subsequence (LCS) between '{s1}' and '{s2}' is: {lcs_length}\")\n"
   ]
  },
  {
   "cell_type": "code",
   "execution_count": 3,
   "metadata": {},
   "outputs": [
    {
     "data": {
      "text/plain": [
       "9"
      ]
     },
     "execution_count": 3,
     "metadata": {},
     "output_type": "execute_result"
    }
   ],
   "source": [
    "\"\"\"Task 3 - 0/1 Knapsack Problem:\n",
    "Scenario: You have a list of items, each with a weight and a value. Given a weight capacity,\n",
    "maximize the total value of items you can carry without exceeding the weight capacity.\n",
    "Task:\n",
    "1. Write a function knapsack(weights, values, capacity) that:\n",
    "• Uses DP to determine the maximum value that can be achieved within the given\n",
    "weight capacity.\n",
    "\n",
    "2. Test with weights [1, 3, 4, 5], values [1, 4, 5, 7], and capacity 7. The re-\n",
    "sult should be 9.\"\"\"\"AI in education.png\"\n",
    "\n",
    "def knapsack(weights, values, capacity):\n",
    "    \"\"\"\n",
    "    Solves the 0/1 Knapsack problem using dynamic programming.\n",
    "\n",
    "    Parameters:\n",
    "    weights (list of int): The weights of the items.\n",
    "    values (list of int): The values of the items.\n",
    "    capacity (int): The maximum weight capacity of the knapsack.\n",
    "\n",
    "    Returns:\n",
    "    int: The maximum value that can be achieved within the given weight capacity.\n",
    "    \"\"\"\n",
    "    n = len(weights)\n",
    "    # Initialize DP table with dimensions (n+1) x (capacity+1)\n",
    "    dp = [[0] * (capacity + 1) for _ in range(n + 1)]\n",
    "\n",
    "    # Build the DP table\n",
    "    for i in range(1, n + 1):\n",
    "        for w in range(1, capacity + 1):\n",
    "            if weights[i - 1] <= w:  # If the item can fit in the knapsack\n",
    "                dp[i][w] = max(dp[i - 1][w], dp[i - 1][w - weights[i - 1]] + values[i - 1])\n",
    "            else:  # If the item can't fit, carry forward the previous value\n",
    "                dp[i][w] = dp[i - 1][w]\n",
    "\n",
    "    # The value in dp[n][capacity] is the maximum value achievable\n",
    "    return dp[n][capacity]\n",
    "\n",
    "# Test with the provided example\n",
    "weights = [1, 3, 4, 5]\n",
    "values = [1, 4, 5, 7]\n",
    "capacity = 7\n",
    "max_value = knapsack(weights, values, capacity)\n",
    "max_value"
   ]
  },
  {
   "cell_type": "code",
   "execution_count": null,
   "metadata": {},
   "outputs": [],
   "source": []
  },
  {
   "cell_type": "code",
   "execution_count": null,
   "metadata": {},
   "outputs": [],
   "source": []
  }
 ],
 "metadata": {
  "kernelspec": {
   "display_name": "Python 3 (ipykernel)",
   "language": "python",
   "name": "python3"
  },
  "language_info": {
   "codemirror_mode": {
    "name": "ipython",
    "version": 3
   },
   "file_extension": ".py",
   "mimetype": "text/x-python",
   "name": "python",
   "nbconvert_exporter": "python",
   "pygments_lexer": "ipython3",
   "version": "3.11.7"
  }
 },
 "nbformat": 4,
 "nbformat_minor": 4
}
